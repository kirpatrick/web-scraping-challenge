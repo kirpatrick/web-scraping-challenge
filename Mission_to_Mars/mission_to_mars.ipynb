{
 "cells": [
  {
   "cell_type": "markdown",
   "metadata": {},
   "source": [
    "# Mission to Mars\n",
    "## Section I:  Data Collection Design\n",
    "Use Pandas, Splinter, and Selenium to collect Mars data from the given data sources.\n",
    "\n",
    "#### Researcher(s):  Kirpatrick Dorsey\n",
    "\n",
    "#### Date:  March 7, 2020\n",
    "\n",
    "#### Data Source(s):\n",
    "- [News - NASA's Mars Exploration Program](https://mars.nasa.gov/news/)\n",
    "- [Space Images/Mars - Nasa Jet Propulsion Laboratory (JPL)](https://www.jpl.nasa.gov/spaceimages/?search=&category=Mars)\n",
    "- [Twitter Latest Mars Weather Tweet](https://twitter.com/marswxreport?lang=en)\n",
    "- [Space-Facts.com/Mars](https://space-facts.com/mars/)\n",
    "- [US Geological Survey (USGS)](https://astrogeology.usgs.gov/search/results?q=hemisphere+enhanced&k1=target&v1=Mars)\n",
    "\n",
    "#### Summary\n",
    "This notebook is <b>One of Four</b> components used to build a web application that scrapes various websites for data related to the Mission to Mars and displays the information in a single HTML page.\n",
    "\n",
    "* <b>Section I:</b>  Data Collection Design (Jupyter Notebook)\n",
    "* <b>Section II:</b>  [Data Collection Script (Python Script)](./scrape_mars.py)\n",
    "* <b>Section III:</b>  [Data Collection Application (Flask)](./app.py)\n",
    "* <b>Section IV:</b>  [Web Page Creation (HTML)](../index.html)"
   ]
  },
  {
   "cell_type": "code",
   "execution_count": 1,
   "metadata": {},
   "outputs": [],
   "source": [
    "# Inport Data Collection Dependencies\n",
    "from bs4 import BeautifulSoup as bs\n",
    "import requests"
   ]
  },
  {
   "cell_type": "markdown",
   "metadata": {},
   "source": [
    "### Collect the latest information about NASA's Mars exploration\n",
    "Source:  [News - NASA's Mars Exploration Program](https://mars.nasa.gov/news/)"
   ]
  },
  {
   "cell_type": "code",
   "execution_count": 2,
   "metadata": {},
   "outputs": [
    {
     "name": "stdout",
     "output_type": "stream",
     "text": [
      "News Title:  Virginia Middle School Student Earns Honor of Naming NASA's Next Mars Rover\n",
      "News Text:  NASA chose a seventh-grader from Virginia as winner of the agency's \"Name the Rover\" essay contest. Alexander Mather's entry for \"Perseverance\" was voted tops among 28,000 entries.\n"
     ]
    }
   ],
   "source": [
    "# Create variables to hold news information\n",
    "news_title = \"\"\n",
    "news_text = \"\"\n",
    "\n",
    "# URL of page to be scraped\n",
    "url = 'https://mars.nasa.gov/news/'\n",
    "\n",
    "# Retrieve page with the requests module\n",
    "response = requests.get(url)\n",
    "\n",
    "# Create BeautifulSoup object; parse with 'html.parser'\n",
    "soup = bs(response.text, 'html.parser')\n",
    "\n",
    "# Examine the results, then determine element that contains sought info\n",
    "#print(soup.prettify())\n",
    "\n",
    "# Save news title of first article\n",
    "news_text = soup.find('div', class_=\"rollover_description_inner\").text.strip()\n",
    "\n",
    "# Save news text teaser of first article\n",
    "news_title = soup.find('div', class_=\"content_title\").text.strip()\n",
    "\n",
    "print(f\"News Title:  {news_title}\\nNews Text:  {news_text}\")"
   ]
  },
  {
   "cell_type": "markdown",
   "metadata": {},
   "source": [
    "###  Find the image url for the current Featured Mars Image. \n",
    "Source:  [Space Images/Mars - Nasa Jet Propulsion Laboratory (JPL)](https://www.jpl.nasa.gov/spaceimages/?search=&category=Mars)\n",
    "- Use splinter to navigate the site and find the image url for the current Featured Mars Image and assign the url string to a variable called featured_image_url.\n",
    "- Make sure to find the image url to the full size .jpg image.\n",
    "- Make sure to save a complete url string for this image."
   ]
  },
  {
   "cell_type": "code",
   "execution_count": 3,
   "metadata": {},
   "outputs": [],
   "source": [
    "# Import Splinter and setup environment variables\n",
    "from splinter import Browser\n",
    "\n",
    "# WINDOWS - Uncomment the next line\n",
    "executable_path = {'executable_path': 'chromedriver.exe'}\n",
    "\n",
    "# MAC - Uncomment the next two lines\n",
    "#!which chromedriver\n",
    "#executable_path = {'executable_path': '/usr/local/bin/chromedriver'}"
   ]
  },
  {
   "cell_type": "code",
   "execution_count": 4,
   "metadata": {},
   "outputs": [
    {
     "name": "stderr",
     "output_type": "stream",
     "text": [
      "C:\\Users\\KDSharp\\Anaconda3\\lib\\site-packages\\splinter\\driver\\webdriver\\__init__.py:528: FutureWarning: browser.find_link_by_partial_text is deprecated. Use browser.links.find_by_partial_text instead.\n",
      "  FutureWarning,\n"
     ]
    },
    {
     "data": {
      "text/plain": [
       "'//photojournal.jpl.nasa.gov/jpeg/PIA11777.jpg'"
      ]
     },
     "execution_count": 4,
     "metadata": {},
     "output_type": "execute_result"
    }
   ],
   "source": [
    "# Start automated browsing session\n",
    "browser = Browser('chrome', **executable_path, headless=False)\n",
    "\n",
    "# Create a variable to hold complete url string for the 'full size' .jpg image\n",
    "# https://www.jpl.nasa.gov/spaceimages/images/largesize/PIA13664_hires.jpg\n",
    "featured_image_url = \"\"\n",
    "\n",
    "# URL of page to be scraped\n",
    "url = 'https://www.jpl.nasa.gov/spaceimages/?search=&category=Mars'\n",
    "browser.visit(url)\n",
    "\n",
    "# Click 'FULL IMAGE' link on landing page\n",
    "browser.click_link_by_partial_text('FULL IMAGE')\n",
    "\n",
    "# Click 'more info' link on Featured Image page\n",
    "browser.click_link_by_partial_text('more info')\n",
    "\n",
    "# Capture page as html\n",
    "html = browser.html\n",
    "\n",
    "# Store html as soup object\n",
    "soup = bs(html, 'html.parser')\n",
    "\n",
    "# Capture image download links\n",
    "image_dowload_links = soup.find_all('div', class_='download_tiff')\n",
    "\n",
    "# Store the second download link on the page; Full-Res JPG\n",
    "featured_image_url = image_dowload_links[1].a['href']\n",
    "\n",
    "browser.quit()\n",
    "\n",
    "featured_image_url"
   ]
  },
  {
   "cell_type": "markdown",
   "metadata": {},
   "source": [
    "### Scrape the latest Mars weather tweet from Twitter\n",
    "Source:  [Twitter Latest Mars Weather Tweet](https://twitter.com/marswxreport?lang=en)"
   ]
  },
  {
   "cell_type": "code",
   "execution_count": 5,
   "metadata": {},
   "outputs": [
    {
     "data": {
      "text/plain": [
       "'InSight sol 453 (2020-03-05) low -95.1ºC (-139.1ºF) high -10.8ºC (12.6ºF)\\nwinds from the SSW at 6.0 m/s (13.3 mph) gusting to 21.4 m/s (47.9 mph)\\npressure at 6.30 hPa'"
      ]
     },
     "execution_count": 5,
     "metadata": {},
     "output_type": "execute_result"
    }
   ],
   "source": [
    "# Create a variable to save the latest Mars weather report tweet from Twitter\n",
    "mars_weather = \"\"\n",
    "\n",
    "# URL of page to be scraped\n",
    "url = 'https://twitter.com/marswxreport?lang=en'\n",
    "\n",
    "# Retrieve page with the requests module\n",
    "response = requests.get(url)\n",
    "\n",
    "# Create BeautifulSoup object; parse with 'html.parser'\n",
    "soup = bs(response.text, 'html.parser')\n",
    "\n",
    "# Examine the results, then determine element that contains sought info\n",
    "#print(soup.prettify())\n",
    "\n",
    "# Capture weather tweets\n",
    "weather_tweets = soup.find_all('div', class_=\"js-tweet-text-container\")\n",
    "\n",
    "# Isolate a-tag data for removal from weather tweet\n",
    "a_text = weather_tweets[0].a.text.strip()\n",
    "#a_text\n",
    "\n",
    "# Store most recent Mars weather tweet\n",
    "mars_weather = weather_tweets[0].p.text.strip(a_text)\n",
    "mars_weather"
   ]
  },
  {
   "cell_type": "markdown",
   "metadata": {},
   "source": [
    "### Scrape the the Mars Facts webpage for facts about the planet including Diameter, Mass, etc.\n",
    "Source:  [Space-Facts.com/Mars](https://space-facts.com/mars/)"
   ]
  },
  {
   "cell_type": "code",
   "execution_count": 6,
   "metadata": {
    "scrolled": true
   },
   "outputs": [
    {
     "data": {
      "text/plain": [
       "<table class=\"tablepress tablepress-id-p-mars\" id=\"tablepress-p-mars-no-2\"><tbody><tr class=\"row-1 odd\"><td class=\"column-1\"><strong>Equatorial Diameter:</strong></td><td class=\"column-2\">6,792 km<br/></td></tr><tr class=\"row-2 even\"><td class=\"column-1\"><strong>Polar Diameter:</strong></td><td class=\"column-2\">6,752 km<br/></td></tr><tr class=\"row-3 odd\"><td class=\"column-1\"><strong>Mass:</strong></td><td class=\"column-2\">6.39 × 10^23 kg<br> (0.11 Earths)</br></td></tr><tr class=\"row-4 even\"><td class=\"column-1\"><strong>Moons:</strong></td><td class=\"column-2\">2 (<a href=\"https://space-facts.com/moons/phobos/\">Phobos</a> &amp; <a href=\"https://space-facts.com/moons/deimos/\">Deimos</a>)</td></tr><tr class=\"row-5 odd\"><td class=\"column-1\"><strong>Orbit Distance:</strong></td><td class=\"column-2\">227,943,824 km<br> (1.38 AU)</br></td></tr><tr class=\"row-6 even\"><td class=\"column-1\"><strong>Orbit Period:</strong></td><td class=\"column-2\">687 days (1.9 years)<br/></td></tr><tr class=\"row-7 odd\"><td class=\"column-1\"><strong>Surface Temperature: </strong></td><td class=\"column-2\">-87 to -5 °C</td></tr><tr class=\"row-8 even\"><td class=\"column-1\"><strong>First Record:</strong></td><td class=\"column-2\">2nd millennium BC</td></tr><tr class=\"row-9 odd\"><td class=\"column-1\"><strong>Recorded By:</strong></td><td class=\"column-2\">Egyptian astronomers</td></tr></tbody></table>"
      ]
     },
     "execution_count": 6,
     "metadata": {},
     "output_type": "execute_result"
    }
   ],
   "source": [
    "# Create a variable to scrape the table containing facts about the planet including Diameter, Mass, etc.\n",
    "# Convert the data to an HTML table string\n",
    "mars_facts_html = \"\"\n",
    "\n",
    "# URL of page to be scraped\n",
    "url = 'https://space-facts.com/mars/'\n",
    "\n",
    "# Retrieve page with the requests module\n",
    "response = requests.get(url)\n",
    "\n",
    "# Create BeautifulSoup object; parse with 'html.parser'\n",
    "soup = bs(response.text, 'html.parser')\n",
    "\n",
    "# Examine the results, then determine element that contains sought info\n",
    "#print(soup.prettify())\n",
    "\n",
    "# Capture mars facts html tables\n",
    "mars_facts_tables = soup.find_all('table', class_=\"tablepress tablepress-id-p-mars\")\n",
    "#mars_facts_tables\n",
    "\n",
    "mars_facts_html = mars_facts_tables[1]\n",
    "mars_facts_html"
   ]
  },
  {
   "cell_type": "markdown",
   "metadata": {},
   "source": [
    "### Visit the SGS Astrogeology site to obtain high resolution images for each of Mar's hemispheres.\n",
    "Source:  [US Geological Survey (USGS)](https://astrogeology.usgs.gov/search/results?q=hemisphere+enhanced&k1=target&v1=Mars)"
   ]
  },
  {
   "cell_type": "code",
   "execution_count": 7,
   "metadata": {},
   "outputs": [
    {
     "name": "stdout",
     "output_type": "stream",
     "text": [
      "Captured image URL for Valles Marineris Hemisphere\n",
      "-----------\n",
      "Captured image URL for Cerberus Hemisphere\n",
      "-----------\n",
      "Captured image URL for Schiaparelli Hemisphere\n",
      "-----------\n",
      "Captured image URL for Syrtis Major Hemisphere\n",
      "-----------\n"
     ]
    }
   ],
   "source": [
    "# Create a Python dictionary to store the data using the keys 'img_url' and 'title'.\n",
    "hemisphere_image_urls = [\n",
    "    {\"title\": \"Valles Marineris Hemisphere\", \"img_url\": \"...\"},\n",
    "    {\"title\": \"Cerberus Hemisphere\", \"img_url\": \"...\"},\n",
    "    {\"title\": \"Schiaparelli Hemisphere\", \"img_url\": \"...\"},\n",
    "    {\"title\": \"Syrtis Major Hemisphere\", \"img_url\": \"...\"},\n",
    "]\n",
    "\n",
    "# Find urls for all images in the dictionary\n",
    "for image in range(len(hemisphere_image_urls)):\n",
    "    \n",
    "    # Start automated browsing session\n",
    "    browser = Browser('chrome', **executable_path, headless=False)\n",
    "\n",
    "    # URL of page to be scraped\n",
    "    url = 'https://astrogeology.usgs.gov/search/results?q=hemisphere+enhanced&k1=target&v1=Mars'\n",
    "    browser.visit(url)\n",
    "    \n",
    "    current_image = hemisphere_image_urls[image][\"title\"]\n",
    "\n",
    "    # Click 'FULL IMAGE' link on landing page\n",
    "    browser.click_link_by_partial_text(current_image)\n",
    "\n",
    "    # Capture page as html\n",
    "    html = browser.html\n",
    "\n",
    "    # Store html as soup object\n",
    "    soup = bs(html, 'html.parser')\n",
    "    #soup\n",
    "\n",
    "    # Capture image download links\n",
    "    image_dowloads = soup.find_all('div', class_='downloads')\n",
    "\n",
    "    # Store the first download link in the container\n",
    "    hemisphere_image_urls[image][\"img_url\"] = image_dowloads[0].a['href']\n",
    "    #hemisphere_image_urls[0][\"img_url\"]\n",
    "    \n",
    "    # Print image capture confirmation\n",
    "    print(f\"Captured image URL for {current_image}\")\n",
    "    print('-----------')\n",
    "    \n",
    "    # Close the browser\n",
    "    browser.quit()\n"
   ]
  },
  {
   "cell_type": "code",
   "execution_count": 8,
   "metadata": {},
   "outputs": [
    {
     "name": "stdout",
     "output_type": "stream",
     "text": [
      "Valles Marineris Hemisphere\n",
      "http://astropedia.astrogeology.usgs.gov/download/Mars/Viking/valles_marineris_enhanced.tif/full.jpg\n",
      "-----------\n",
      "Cerberus Hemisphere\n",
      "http://astropedia.astrogeology.usgs.gov/download/Mars/Viking/cerberus_enhanced.tif/full.jpg\n",
      "-----------\n",
      "Schiaparelli Hemisphere\n",
      "http://astropedia.astrogeology.usgs.gov/download/Mars/Viking/schiaparelli_enhanced.tif/full.jpg\n",
      "-----------\n",
      "Syrtis Major Hemisphere\n",
      "http://astropedia.astrogeology.usgs.gov/download/Mars/Viking/syrtis_major_enhanced.tif/full.jpg\n",
      "-----------\n"
     ]
    }
   ],
   "source": [
    "# Confirm image capture\n",
    "for image in range(len(hemisphere_image_urls)):\n",
    "    print(hemisphere_image_urls[image][\"title\"])\n",
    "    print(hemisphere_image_urls[image][\"img_url\"])\n",
    "    print('-----------')"
   ]
  },
  {
   "cell_type": "code",
   "execution_count": null,
   "metadata": {},
   "outputs": [],
   "source": []
  }
 ],
 "metadata": {
  "kernelspec": {
   "display_name": "Python 3",
   "language": "python",
   "name": "python3"
  },
  "language_info": {
   "codemirror_mode": {
    "name": "ipython",
    "version": 3
   },
   "file_extension": ".py",
   "mimetype": "text/x-python",
   "name": "python",
   "nbconvert_exporter": "python",
   "pygments_lexer": "ipython3",
   "version": "3.7.4"
  }
 },
 "nbformat": 4,
 "nbformat_minor": 2
}
