{
 "cells": [
  {
   "cell_type": "markdown",
   "metadata": {},
   "source": [
    "# Mission to Mars\n",
    "## Section I:  Data Collection Design\n",
    "Use Pandas, Splinter, and Selenium to collect Mars data from the given data sources.\n",
    "\n",
    "#### Researcher(s):  Kirpatrick Dorsey\n",
    "\n",
    "#### Date:  March 7, 2020\n",
    "\n",
    "#### Data Source(s):\n",
    "- [News - NASA's Mars Exploration Program](https://mars.nasa.gov/news/)\n",
    "- [Space Images/Mars - Nasa Jet Propulsion Laboratory (JPL)](https://www.jpl.nasa.gov/spaceimages/?search=&category=Mars)\n",
    "- [Twitter Latest Mars Weather Tweet](https://twitter.com/marswxreport?lang=en)\n",
    "- [Space-Facts.com/Mars](https://space-facts.com/mars/)\n",
    "- [US Geological Survey (USGS)](https://astrogeology.usgs.gov/search/results?q=hemisphere+enhanced&k1=target&v1=Mars)\n",
    "\n",
    "#### Summary\n",
    "This notebook is <b>One of Four</b> components used to build a web application that scrapes various websites for data related to the Mission to Mars and displays the information in a single HTML page.\n",
    "\n",
    "* <b>Section I:</b>  Data Collection Design (Jupyter Notebook)\n",
    "* <b>Section II:</b>  [Data Collection Script (Python Script)](./scrape_mars.py)\n",
    "* <b>Section III:</b>  [Data Collection Application (Flask)](./app.py)\n",
    "* <b>Section IV:</b>  [Web Page Creation (HTML)](../index.html)"
   ]
  },
  {
   "cell_type": "code",
   "execution_count": null,
   "metadata": {},
   "outputs": [],
   "source": [
    "# Inport Data Collection Dependencies"
   ]
  },
  {
   "attachments": {},
   "cell_type": "markdown",
   "metadata": {},
   "source": [
    "### Collect the latest information about NASA's Mars exploration\n",
    "Source:  [News - NASA's Mars Exploration Program](https://mars.nasa.gov/news/)"
   ]
  },
  {
   "cell_type": "code",
   "execution_count": null,
   "metadata": {},
   "outputs": [],
   "source": [
    "# Create variables to hold news information\n",
    "news_title = \"\"\n",
    "news_text = \"\""
   ]
  },
  {
   "cell_type": "markdown",
   "metadata": {},
   "source": [
    "###  Find the image url for the current Featured Mars Image. \n",
    "Source:  [Space Images/Mars - Nasa Jet Propulsion Laboratory (JPL)](https://www.jpl.nasa.gov/spaceimages/?search=&category=Mars)"
   ]
  },
  {
   "cell_type": "code",
   "execution_count": null,
   "metadata": {},
   "outputs": [],
   "source": [
    "# Create a variable to hold complete url string for the 'full size' .jpg image\n",
    "featured_image_url = \"\""
   ]
  },
  {
   "cell_type": "markdown",
   "metadata": {},
   "source": [
    "### Scrape the latest Mars weather tweet from Twitter\n",
    "Source:  [Twitter Latest Mars Weather Tweet](https://twitter.com/marswxreport?lang=en)"
   ]
  },
  {
   "cell_type": "code",
   "execution_count": null,
   "metadata": {},
   "outputs": [],
   "source": [
    "# Create a variable to save the latest Mars weather report tweet from Twitter\n",
    "mars_weather = \"\""
   ]
  },
  {
   "cell_type": "markdown",
   "metadata": {},
   "source": [
    "### Scrape the the Mars Facts webpage for facts about the planet including Diameter, Mass, etc.\n",
    "Source:  [Space-Facts.com/Mars](https://space-facts.com/mars/)"
   ]
  },
  {
   "cell_type": "code",
   "execution_count": null,
   "metadata": {},
   "outputs": [],
   "source": [
    "# Create a variable to scrape the table containing facts about the planet including Diameter, Mass, etc.\n",
    "# Convert the data to an HTML table string\n",
    "mars_facts_html = \"\""
   ]
  },
  {
   "cell_type": "markdown",
   "metadata": {},
   "source": [
    "### Visit the SGS Astrogeology site to obtain high resolution images for each of Mar's hemispheres.\n",
    "Source:  [US Geological Survey (USGS)](https://astrogeology.usgs.gov/search/results?q=hemisphere+enhanced&k1=target&v1=Mars)"
   ]
  },
  {
   "cell_type": "code",
   "execution_count": null,
   "metadata": {},
   "outputs": [],
   "source": [
    "# Create a variable to save the image url string for the full resolution hemisphere image\n",
    "img_url = \"\"\n",
    "\n",
    "# Create a variable to save the Hemisphere title containing the hemisphere name\n",
    "title = \"\"\n",
    "\n",
    " # Use a Python dictionary to store the data using the keys img_url and title."
   ]
  }
 ],
 "metadata": {
  "kernelspec": {
   "display_name": "Python 3",
   "language": "python",
   "name": "python3"
  },
  "language_info": {
   "codemirror_mode": {
    "name": "ipython",
    "version": 3
   },
   "file_extension": ".py",
   "mimetype": "text/x-python",
   "name": "python",
   "nbconvert_exporter": "python",
   "pygments_lexer": "ipython3",
   "version": "3.7.4"
  }
 },
 "nbformat": 4,
 "nbformat_minor": 2
}
